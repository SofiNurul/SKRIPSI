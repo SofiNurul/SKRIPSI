{
  "nbformat": 4,
  "nbformat_minor": 0,
  "metadata": {
    "colab": {
      "provenance": [],
      "include_colab_link": true
    },
    "kernelspec": {
      "name": "python3",
      "display_name": "Python 3"
    },
    "language_info": {
      "name": "python"
    }
  },
  "cells": [
    {
      "cell_type": "markdown",
      "metadata": {
        "id": "view-in-github",
        "colab_type": "text"
      },
      "source": [
        "<a href=\"https://colab.research.google.com/github/SofiNurul/SKRIPSI/blob/main/Salinan_dari_Percobaan_Sentiment_Analisis_Produk_Penghilang_Bekas_Luka_di_Shopee_Dengan_Algoritma_Naive_Bayes.ipynb\" target=\"_parent\"><img src=\"https://colab.research.google.com/assets/colab-badge.svg\" alt=\"Open In Colab\"/></a>"
      ]
    },
    {
      "cell_type": "markdown",
      "source": [
        "# **IMPORT LIBRARY DAN DATASET**\n",
        "\n",
        "---\n",
        "\n",
        "\n"
      ],
      "metadata": {
        "id": "Ll_YDRPUl881"
      }
    },
    {
      "cell_type": "code",
      "execution_count": 1,
      "metadata": {
        "id": "q3qzfSyOIhp1"
      },
      "outputs": [],
      "source": [
        "import pandas as pd\n",
        "import re\n",
        "import string\n",
        "import nltk\n",
        "import matplotlib.pyplot as plt\n",
        "import numpy as np\n",
        "import seaborn as sns\n",
        "from collections import Counter\n",
        "from nltk.corpus import stopwords as nltk_stopwords\n",
        "from nltk.tokenize import word_tokenize\n",
        "from sklearn.feature_extraction.text import TfidfVectorizer\n",
        "from sklearn.model_selection import train_test_split, GridSearchCV, cross_val_score\n",
        "from sklearn.naive_bayes import MultinomialNB\n",
        "from sklearn.metrics import classification_report, accuracy_score, confusion_matrix, precision_recall_fscore_support\n",
        "from wordcloud import WordCloud\n",
        "import joblib"
      ]
    },
    {
      "cell_type": "markdown",
      "source": [
        "Mengunduh resource nltk yang diperlukan"
      ],
      "metadata": {
        "id": "5gASkCyrJPTt"
      }
    },
    {
      "cell_type": "code",
      "source": [
        "nltk.download('punkt')\n",
        "nltk.download('stopwords')"
      ],
      "metadata": {
        "colab": {
          "base_uri": "https://localhost:8080/"
        },
        "id": "tkISgCHIJUC-",
        "outputId": "8758e8c8-dfb4-43d8-e2c2-a01899af357c"
      },
      "execution_count": 2,
      "outputs": [
        {
          "output_type": "stream",
          "name": "stderr",
          "text": [
            "[nltk_data] Downloading package punkt to /root/nltk_data...\n",
            "[nltk_data]   Package punkt is already up-to-date!\n",
            "[nltk_data] Downloading package stopwords to /root/nltk_data...\n",
            "[nltk_data]   Package stopwords is already up-to-date!\n"
          ]
        },
        {
          "output_type": "execute_result",
          "data": {
            "text/plain": [
              "True"
            ]
          },
          "metadata": {},
          "execution_count": 2
        }
      ]
    },
    {
      "cell_type": "markdown",
      "source": [
        "Muat dataset"
      ],
      "metadata": {
        "id": "v2kusO9WI8Fz"
      }
    },
    {
      "cell_type": "code",
      "source": [
        "df = pd.read_csv('dataulasan_manual.csv', encoding='MacRoman')\n",
        "df.head(10)"
      ],
      "metadata": {
        "id": "PTBFslvcI7Xp",
        "colab": {
          "base_uri": "https://localhost:8080/",
          "height": 956
        },
        "outputId": "778d633a-c8f0-4f87-b094-15aa5a463264"
      },
      "execution_count": 3,
      "outputs": [
        {
          "output_type": "execute_result",
          "data": {
            "text/plain": [
              "   no                username        date  \\\n",
              "0   1                 z*****e  10/10/2024   \n",
              "1   2               dindardew  03/09/2024   \n",
              "2   3              dikamungil  03/09/2024   \n",
              "3   4             cakranouval  11/08/2024   \n",
              "4   5          ilhamansyari22  18/06/2024   \n",
              "5   6  inggihsatrianisatriani  18/06/2024   \n",
              "6   7                 m*****4  06/06/2024   \n",
              "7   8                  nonaa2  02/06/2024   \n",
              "8   9              linarifqun  12/05/2024   \n",
              "9  10                 v*****8  11/05/2024   \n",
              "\n",
              "                                             content  \\\n",
              "0  Pertama kali coba karena baca ulasan di Quora ...   \n",
              "1  Penasaran bgt dari dulu udah laser jg bekas lu...   \n",
              "2  Udah ku pke beberapa kali sih, semoga bermanfa...   \n",
              "3                             kecewa, kemasan penyok   \n",
              "4                       Barang sesuai pesanan ‚ò∫Ô∏è   \n",
              "5  Baru pertama kali coba mudah mudahan bisa puda...   \n",
              "6  Baru mau nyoba, semoga manjur menghilangkan be...   \n",
              "7  Cottonbud gak dikasih, pelit banget, gimana pa...   \n",
              "8  Alhamdulillah Paketku sudah sampai pesanannya ...   \n",
              "9  Dikasih thr sama kakaknya, MasyaAllah berkah s...   \n",
              "\n",
              "                      texture                             effectiveness  \\\n",
              "0                   cream gel  baru pertama x coba Guys mudah2an manjur   \n",
              "1  lembut dan dingin ke kulit             belum tau baru d pakai sehari   \n",
              "2                         gel                                      baik   \n",
              "3                  gel lembut                                   efektif   \n",
              "4                  gel lembut                                   efektif   \n",
              "5                        baik                        blom tau baru coba   \n",
              "6                         gel                                     bagus   \n",
              "7                         gel                                     bagus   \n",
              "8                         gel                                     bagus   \n",
              "9                  gel kental                semoga bekerja dengan baik   \n",
              "\n",
              "  absorption capacity  score sentiment  \n",
              "0                 pas      4   positif  \n",
              "1               cepet      5    netral  \n",
              "2               cepat      5   positif  \n",
              "3               cepat      3   negatif  \n",
              "4               cepat      5    netral  \n",
              "5               bagus      5   positif  \n",
              "6               bagus      5   positif  \n",
              "7                baik      3   negatif  \n",
              "8               bagus      3   positif  \n",
              "9           belum tau      5   positif  "
            ],
            "text/html": [
              "\n",
              "  <div id=\"df-5a2055a4-64d6-4608-864e-6f582940283e\" class=\"colab-df-container\">\n",
              "    <div>\n",
              "<style scoped>\n",
              "    .dataframe tbody tr th:only-of-type {\n",
              "        vertical-align: middle;\n",
              "    }\n",
              "\n",
              "    .dataframe tbody tr th {\n",
              "        vertical-align: top;\n",
              "    }\n",
              "\n",
              "    .dataframe thead th {\n",
              "        text-align: right;\n",
              "    }\n",
              "</style>\n",
              "<table border=\"1\" class=\"dataframe\">\n",
              "  <thead>\n",
              "    <tr style=\"text-align: right;\">\n",
              "      <th></th>\n",
              "      <th>no</th>\n",
              "      <th>username</th>\n",
              "      <th>date</th>\n",
              "      <th>content</th>\n",
              "      <th>texture</th>\n",
              "      <th>effectiveness</th>\n",
              "      <th>absorption capacity</th>\n",
              "      <th>score</th>\n",
              "      <th>sentiment</th>\n",
              "    </tr>\n",
              "  </thead>\n",
              "  <tbody>\n",
              "    <tr>\n",
              "      <th>0</th>\n",
              "      <td>1</td>\n",
              "      <td>z*****e</td>\n",
              "      <td>10/10/2024</td>\n",
              "      <td>Pertama kali coba karena baca ulasan di Quora ...</td>\n",
              "      <td>cream gel</td>\n",
              "      <td>baru pertama x coba Guys mudah2an manjur</td>\n",
              "      <td>pas</td>\n",
              "      <td>4</td>\n",
              "      <td>positif</td>\n",
              "    </tr>\n",
              "    <tr>\n",
              "      <th>1</th>\n",
              "      <td>2</td>\n",
              "      <td>dindardew</td>\n",
              "      <td>03/09/2024</td>\n",
              "      <td>Penasaran bgt dari dulu udah laser jg bekas lu...</td>\n",
              "      <td>lembut dan dingin ke kulit</td>\n",
              "      <td>belum tau baru d pakai sehari</td>\n",
              "      <td>cepet</td>\n",
              "      <td>5</td>\n",
              "      <td>netral</td>\n",
              "    </tr>\n",
              "    <tr>\n",
              "      <th>2</th>\n",
              "      <td>3</td>\n",
              "      <td>dikamungil</td>\n",
              "      <td>03/09/2024</td>\n",
              "      <td>Udah ku pke beberapa kali sih, semoga bermanfa...</td>\n",
              "      <td>gel</td>\n",
              "      <td>baik</td>\n",
              "      <td>cepat</td>\n",
              "      <td>5</td>\n",
              "      <td>positif</td>\n",
              "    </tr>\n",
              "    <tr>\n",
              "      <th>3</th>\n",
              "      <td>4</td>\n",
              "      <td>cakranouval</td>\n",
              "      <td>11/08/2024</td>\n",
              "      <td>kecewa, kemasan penyok</td>\n",
              "      <td>gel lembut</td>\n",
              "      <td>efektif</td>\n",
              "      <td>cepat</td>\n",
              "      <td>3</td>\n",
              "      <td>negatif</td>\n",
              "    </tr>\n",
              "    <tr>\n",
              "      <th>4</th>\n",
              "      <td>5</td>\n",
              "      <td>ilhamansyari22</td>\n",
              "      <td>18/06/2024</td>\n",
              "      <td>Barang sesuai pesanan ‚ò∫Ô∏è</td>\n",
              "      <td>gel lembut</td>\n",
              "      <td>efektif</td>\n",
              "      <td>cepat</td>\n",
              "      <td>5</td>\n",
              "      <td>netral</td>\n",
              "    </tr>\n",
              "    <tr>\n",
              "      <th>5</th>\n",
              "      <td>6</td>\n",
              "      <td>inggihsatrianisatriani</td>\n",
              "      <td>18/06/2024</td>\n",
              "      <td>Baru pertama kali coba mudah mudahan bisa puda...</td>\n",
              "      <td>baik</td>\n",
              "      <td>blom tau baru coba</td>\n",
              "      <td>bagus</td>\n",
              "      <td>5</td>\n",
              "      <td>positif</td>\n",
              "    </tr>\n",
              "    <tr>\n",
              "      <th>6</th>\n",
              "      <td>7</td>\n",
              "      <td>m*****4</td>\n",
              "      <td>06/06/2024</td>\n",
              "      <td>Baru mau nyoba, semoga manjur menghilangkan be...</td>\n",
              "      <td>gel</td>\n",
              "      <td>bagus</td>\n",
              "      <td>bagus</td>\n",
              "      <td>5</td>\n",
              "      <td>positif</td>\n",
              "    </tr>\n",
              "    <tr>\n",
              "      <th>7</th>\n",
              "      <td>8</td>\n",
              "      <td>nonaa2</td>\n",
              "      <td>02/06/2024</td>\n",
              "      <td>Cottonbud gak dikasih, pelit banget, gimana pa...</td>\n",
              "      <td>gel</td>\n",
              "      <td>bagus</td>\n",
              "      <td>baik</td>\n",
              "      <td>3</td>\n",
              "      <td>negatif</td>\n",
              "    </tr>\n",
              "    <tr>\n",
              "      <th>8</th>\n",
              "      <td>9</td>\n",
              "      <td>linarifqun</td>\n",
              "      <td>12/05/2024</td>\n",
              "      <td>Alhamdulillah Paketku sudah sampai pesanannya ...</td>\n",
              "      <td>gel</td>\n",
              "      <td>bagus</td>\n",
              "      <td>bagus</td>\n",
              "      <td>3</td>\n",
              "      <td>positif</td>\n",
              "    </tr>\n",
              "    <tr>\n",
              "      <th>9</th>\n",
              "      <td>10</td>\n",
              "      <td>v*****8</td>\n",
              "      <td>11/05/2024</td>\n",
              "      <td>Dikasih thr sama kakaknya, MasyaAllah berkah s...</td>\n",
              "      <td>gel kental</td>\n",
              "      <td>semoga bekerja dengan baik</td>\n",
              "      <td>belum tau</td>\n",
              "      <td>5</td>\n",
              "      <td>positif</td>\n",
              "    </tr>\n",
              "  </tbody>\n",
              "</table>\n",
              "</div>\n",
              "    <div class=\"colab-df-buttons\">\n",
              "\n",
              "  <div class=\"colab-df-container\">\n",
              "    <button class=\"colab-df-convert\" onclick=\"convertToInteractive('df-5a2055a4-64d6-4608-864e-6f582940283e')\"\n",
              "            title=\"Convert this dataframe to an interactive table.\"\n",
              "            style=\"display:none;\">\n",
              "\n",
              "  <svg xmlns=\"http://www.w3.org/2000/svg\" height=\"24px\" viewBox=\"0 -960 960 960\">\n",
              "    <path d=\"M120-120v-720h720v720H120Zm60-500h600v-160H180v160Zm220 220h160v-160H400v160Zm0 220h160v-160H400v160ZM180-400h160v-160H180v160Zm440 0h160v-160H620v160ZM180-180h160v-160H180v160Zm440 0h160v-160H620v160Z\"/>\n",
              "  </svg>\n",
              "    </button>\n",
              "\n",
              "  <style>\n",
              "    .colab-df-container {\n",
              "      display:flex;\n",
              "      gap: 12px;\n",
              "    }\n",
              "\n",
              "    .colab-df-convert {\n",
              "      background-color: #E8F0FE;\n",
              "      border: none;\n",
              "      border-radius: 50%;\n",
              "      cursor: pointer;\n",
              "      display: none;\n",
              "      fill: #1967D2;\n",
              "      height: 32px;\n",
              "      padding: 0 0 0 0;\n",
              "      width: 32px;\n",
              "    }\n",
              "\n",
              "    .colab-df-convert:hover {\n",
              "      background-color: #E2EBFA;\n",
              "      box-shadow: 0px 1px 2px rgba(60, 64, 67, 0.3), 0px 1px 3px 1px rgba(60, 64, 67, 0.15);\n",
              "      fill: #174EA6;\n",
              "    }\n",
              "\n",
              "    .colab-df-buttons div {\n",
              "      margin-bottom: 4px;\n",
              "    }\n",
              "\n",
              "    [theme=dark] .colab-df-convert {\n",
              "      background-color: #3B4455;\n",
              "      fill: #D2E3FC;\n",
              "    }\n",
              "\n",
              "    [theme=dark] .colab-df-convert:hover {\n",
              "      background-color: #434B5C;\n",
              "      box-shadow: 0px 1px 3px 1px rgba(0, 0, 0, 0.15);\n",
              "      filter: drop-shadow(0px 1px 2px rgba(0, 0, 0, 0.3));\n",
              "      fill: #FFFFFF;\n",
              "    }\n",
              "  </style>\n",
              "\n",
              "    <script>\n",
              "      const buttonEl =\n",
              "        document.querySelector('#df-5a2055a4-64d6-4608-864e-6f582940283e button.colab-df-convert');\n",
              "      buttonEl.style.display =\n",
              "        google.colab.kernel.accessAllowed ? 'block' : 'none';\n",
              "\n",
              "      async function convertToInteractive(key) {\n",
              "        const element = document.querySelector('#df-5a2055a4-64d6-4608-864e-6f582940283e');\n",
              "        const dataTable =\n",
              "          await google.colab.kernel.invokeFunction('convertToInteractive',\n",
              "                                                    [key], {});\n",
              "        if (!dataTable) return;\n",
              "\n",
              "        const docLinkHtml = 'Like what you see? Visit the ' +\n",
              "          '<a target=\"_blank\" href=https://colab.research.google.com/notebooks/data_table.ipynb>data table notebook</a>'\n",
              "          + ' to learn more about interactive tables.';\n",
              "        element.innerHTML = '';\n",
              "        dataTable['output_type'] = 'display_data';\n",
              "        await google.colab.output.renderOutput(dataTable, element);\n",
              "        const docLink = document.createElement('div');\n",
              "        docLink.innerHTML = docLinkHtml;\n",
              "        element.appendChild(docLink);\n",
              "      }\n",
              "    </script>\n",
              "  </div>\n",
              "\n",
              "\n",
              "<div id=\"df-72a38bd2-8af0-4549-a8dc-1d56d5de23f8\">\n",
              "  <button class=\"colab-df-quickchart\" onclick=\"quickchart('df-72a38bd2-8af0-4549-a8dc-1d56d5de23f8')\"\n",
              "            title=\"Suggest charts\"\n",
              "            style=\"display:none;\">\n",
              "\n",
              "<svg xmlns=\"http://www.w3.org/2000/svg\" height=\"24px\"viewBox=\"0 0 24 24\"\n",
              "     width=\"24px\">\n",
              "    <g>\n",
              "        <path d=\"M19 3H5c-1.1 0-2 .9-2 2v14c0 1.1.9 2 2 2h14c1.1 0 2-.9 2-2V5c0-1.1-.9-2-2-2zM9 17H7v-7h2v7zm4 0h-2V7h2v10zm4 0h-2v-4h2v4z\"/>\n",
              "    </g>\n",
              "</svg>\n",
              "  </button>\n",
              "\n",
              "<style>\n",
              "  .colab-df-quickchart {\n",
              "      --bg-color: #E8F0FE;\n",
              "      --fill-color: #1967D2;\n",
              "      --hover-bg-color: #E2EBFA;\n",
              "      --hover-fill-color: #174EA6;\n",
              "      --disabled-fill-color: #AAA;\n",
              "      --disabled-bg-color: #DDD;\n",
              "  }\n",
              "\n",
              "  [theme=dark] .colab-df-quickchart {\n",
              "      --bg-color: #3B4455;\n",
              "      --fill-color: #D2E3FC;\n",
              "      --hover-bg-color: #434B5C;\n",
              "      --hover-fill-color: #FFFFFF;\n",
              "      --disabled-bg-color: #3B4455;\n",
              "      --disabled-fill-color: #666;\n",
              "  }\n",
              "\n",
              "  .colab-df-quickchart {\n",
              "    background-color: var(--bg-color);\n",
              "    border: none;\n",
              "    border-radius: 50%;\n",
              "    cursor: pointer;\n",
              "    display: none;\n",
              "    fill: var(--fill-color);\n",
              "    height: 32px;\n",
              "    padding: 0;\n",
              "    width: 32px;\n",
              "  }\n",
              "\n",
              "  .colab-df-quickchart:hover {\n",
              "    background-color: var(--hover-bg-color);\n",
              "    box-shadow: 0 1px 2px rgba(60, 64, 67, 0.3), 0 1px 3px 1px rgba(60, 64, 67, 0.15);\n",
              "    fill: var(--button-hover-fill-color);\n",
              "  }\n",
              "\n",
              "  .colab-df-quickchart-complete:disabled,\n",
              "  .colab-df-quickchart-complete:disabled:hover {\n",
              "    background-color: var(--disabled-bg-color);\n",
              "    fill: var(--disabled-fill-color);\n",
              "    box-shadow: none;\n",
              "  }\n",
              "\n",
              "  .colab-df-spinner {\n",
              "    border: 2px solid var(--fill-color);\n",
              "    border-color: transparent;\n",
              "    border-bottom-color: var(--fill-color);\n",
              "    animation:\n",
              "      spin 1s steps(1) infinite;\n",
              "  }\n",
              "\n",
              "  @keyframes spin {\n",
              "    0% {\n",
              "      border-color: transparent;\n",
              "      border-bottom-color: var(--fill-color);\n",
              "      border-left-color: var(--fill-color);\n",
              "    }\n",
              "    20% {\n",
              "      border-color: transparent;\n",
              "      border-left-color: var(--fill-color);\n",
              "      border-top-color: var(--fill-color);\n",
              "    }\n",
              "    30% {\n",
              "      border-color: transparent;\n",
              "      border-left-color: var(--fill-color);\n",
              "      border-top-color: var(--fill-color);\n",
              "      border-right-color: var(--fill-color);\n",
              "    }\n",
              "    40% {\n",
              "      border-color: transparent;\n",
              "      border-right-color: var(--fill-color);\n",
              "      border-top-color: var(--fill-color);\n",
              "    }\n",
              "    60% {\n",
              "      border-color: transparent;\n",
              "      border-right-color: var(--fill-color);\n",
              "    }\n",
              "    80% {\n",
              "      border-color: transparent;\n",
              "      border-right-color: var(--fill-color);\n",
              "      border-bottom-color: var(--fill-color);\n",
              "    }\n",
              "    90% {\n",
              "      border-color: transparent;\n",
              "      border-bottom-color: var(--fill-color);\n",
              "    }\n",
              "  }\n",
              "</style>\n",
              "\n",
              "  <script>\n",
              "    async function quickchart(key) {\n",
              "      const quickchartButtonEl =\n",
              "        document.querySelector('#' + key + ' button');\n",
              "      quickchartButtonEl.disabled = true;  // To prevent multiple clicks.\n",
              "      quickchartButtonEl.classList.add('colab-df-spinner');\n",
              "      try {\n",
              "        const charts = await google.colab.kernel.invokeFunction(\n",
              "            'suggestCharts', [key], {});\n",
              "      } catch (error) {\n",
              "        console.error('Error during call to suggestCharts:', error);\n",
              "      }\n",
              "      quickchartButtonEl.classList.remove('colab-df-spinner');\n",
              "      quickchartButtonEl.classList.add('colab-df-quickchart-complete');\n",
              "    }\n",
              "    (() => {\n",
              "      let quickchartButtonEl =\n",
              "        document.querySelector('#df-72a38bd2-8af0-4549-a8dc-1d56d5de23f8 button');\n",
              "      quickchartButtonEl.style.display =\n",
              "        google.colab.kernel.accessAllowed ? 'block' : 'none';\n",
              "    })();\n",
              "  </script>\n",
              "</div>\n",
              "\n",
              "    </div>\n",
              "  </div>\n"
            ],
            "application/vnd.google.colaboratory.intrinsic+json": {
              "type": "dataframe",
              "variable_name": "df",
              "summary": "{\n  \"name\": \"df\",\n  \"rows\": 1174,\n  \"fields\": [\n    {\n      \"column\": \"no\",\n      \"properties\": {\n        \"dtype\": \"number\",\n        \"std\": 339,\n        \"min\": 1,\n        \"max\": 1174,\n        \"num_unique_values\": 1174,\n        \"samples\": [\n          411,\n          431,\n          676\n        ],\n        \"semantic_type\": \"\",\n        \"description\": \"\"\n      }\n    },\n    {\n      \"column\": \"username\",\n      \"properties\": {\n        \"dtype\": \"string\",\n        \"num_unique_values\": 875,\n        \"samples\": [\n          \"pandjiokeoke\",\n          \"reshaw\",\n          \"aryatiyati270\"\n        ],\n        \"semantic_type\": \"\",\n        \"description\": \"\"\n      }\n    },\n    {\n      \"column\": \"date\",\n      \"properties\": {\n        \"dtype\": \"string\",\n        \"num_unique_values\": 660,\n        \"samples\": [\n          \"02/12/2019\",\n          \"26/10/2020\",\n          \"18/11/2022\"\n        ],\n        \"semantic_type\": \"\",\n        \"description\": \"\"\n      }\n    },\n    {\n      \"column\": \"content\",\n      \"properties\": {\n        \"dtype\": \"string\",\n        \"num_unique_values\": 1147,\n        \"samples\": [\n          \"baru pertama kali coba, tapi yakin sih ini beneran ngasih efek dari baca reviewnya udah banyak yg buktiin, sukses selalu untuk ownernya\\u201a\\u00f2\\u222b\\u00d4\\u220f\\u00e8\",\n          \"YAP PACKING RAPIH SAMPE CEPET BANGET TERTULIS TGL 1-4 TERNYATA 3 HARI SAMPE MANTAP DAH POKONYA SUKSES SELALU\",\n          \"Alhamdulillah udah nyampe barang nya...mudah2 han keloid anak ku hilang.. Amin\\uf8ff\\u00fc\\u00a7\\u2264\"\n        ],\n        \"semantic_type\": \"\",\n        \"description\": \"\"\n      }\n    },\n    {\n      \"column\": \"texture\",\n      \"properties\": {\n        \"dtype\": \"category\",\n        \"num_unique_values\": 80,\n        \"samples\": [\n          \"lengket\",\n          \"cream gel\",\n          \"ringan\"\n        ],\n        \"semantic_type\": \"\",\n        \"description\": \"\"\n      }\n    },\n    {\n      \"column\": \"effectiveness\",\n      \"properties\": {\n        \"dtype\": \"category\",\n        \"num_unique_values\": 180,\n        \"samples\": [\n          \"gtau\",\n          \"belum yakin\",\n          \"ngefek parah untuk bekas luka kehitaman\"\n        ],\n        \"semantic_type\": \"\",\n        \"description\": \"\"\n      }\n    },\n    {\n      \"column\": \"absorption capacity\",\n      \"properties\": {\n        \"dtype\": \"category\",\n        \"num_unique_values\": 89,\n        \"samples\": [\n          \"lumayan cepat\",\n          \"sempurna\",\n          \"mantap\"\n        ],\n        \"semantic_type\": \"\",\n        \"description\": \"\"\n      }\n    },\n    {\n      \"column\": \"score\",\n      \"properties\": {\n        \"dtype\": \"number\",\n        \"std\": 0,\n        \"min\": 1,\n        \"max\": 5,\n        \"num_unique_values\": 5,\n        \"samples\": [\n          5,\n          1,\n          3\n        ],\n        \"semantic_type\": \"\",\n        \"description\": \"\"\n      }\n    },\n    {\n      \"column\": \"sentiment\",\n      \"properties\": {\n        \"dtype\": \"category\",\n        \"num_unique_values\": 3,\n        \"samples\": [\n          \"positif\",\n          \"netral\",\n          \"negatif\"\n        ],\n        \"semantic_type\": \"\",\n        \"description\": \"\"\n      }\n    }\n  ]\n}"
            }
          },
          "metadata": {},
          "execution_count": 3
        }
      ]
    },
    {
      "cell_type": "markdown",
      "source": [
        "# **DATA SELECTION**\n",
        "\n",
        "---\n",
        "\n"
      ],
      "metadata": {
        "id": "50bnFbTEmlpf"
      }
    },
    {
      "cell_type": "markdown",
      "source": [
        "Melakukan data selection"
      ],
      "metadata": {
        "id": "4FQhoGpig60s"
      }
    },
    {
      "cell_type": "code",
      "source": [
        "# Memilih kolom yang relevan\n",
        "df_selected = df[['username', 'content', 'sentiment']]\n",
        "# Menghapus baris yang memiliki nilai kosong pada kolom 'content'\n",
        "df_selected.dropna(subset=['content'], inplace=True)\n",
        "# Menampilkan 10 baris pertama dari data yang telah diseleksi\n",
        "df_selected.head(10)"
      ],
      "metadata": {
        "colab": {
          "base_uri": "https://localhost:8080/",
          "height": 470
        },
        "id": "phZHN6x9g9Pp",
        "outputId": "f06ed31e-b395-4114-9ce9-d80ced6d8ef9"
      },
      "execution_count": 4,
      "outputs": [
        {
          "output_type": "stream",
          "name": "stderr",
          "text": [
            "<ipython-input-4-140f985cd337>:4: SettingWithCopyWarning: \n",
            "A value is trying to be set on a copy of a slice from a DataFrame\n",
            "\n",
            "See the caveats in the documentation: https://pandas.pydata.org/pandas-docs/stable/user_guide/indexing.html#returning-a-view-versus-a-copy\n",
            "  df_selected.dropna(subset=['content'], inplace=True)\n"
          ]
        },
        {
          "output_type": "execute_result",
          "data": {
            "text/plain": [
              "                 username                                            content  \\\n",
              "0                 z*****e  Pertama kali coba karena baca ulasan di Quora ...   \n",
              "1               dindardew  Penasaran bgt dari dulu udah laser jg bekas lu...   \n",
              "2              dikamungil  Udah ku pke beberapa kali sih, semoga bermanfa...   \n",
              "3             cakranouval                             kecewa, kemasan penyok   \n",
              "4          ilhamansyari22                       Barang sesuai pesanan ‚ò∫Ô∏è   \n",
              "5  inggihsatrianisatriani  Baru pertama kali coba mudah mudahan bisa puda...   \n",
              "6                 m*****4  Baru mau nyoba, semoga manjur menghilangkan be...   \n",
              "7                  nonaa2  Cottonbud gak dikasih, pelit banget, gimana pa...   \n",
              "8              linarifqun  Alhamdulillah Paketku sudah sampai pesanannya ...   \n",
              "9                 v*****8  Dikasih thr sama kakaknya, MasyaAllah berkah s...   \n",
              "\n",
              "  sentiment  \n",
              "0   positif  \n",
              "1    netral  \n",
              "2   positif  \n",
              "3   negatif  \n",
              "4    netral  \n",
              "5   positif  \n",
              "6   positif  \n",
              "7   negatif  \n",
              "8   positif  \n",
              "9   positif  "
            ],
            "text/html": [
              "\n",
              "  <div id=\"df-15cc08ae-b7fb-4755-8222-63dede67289a\" class=\"colab-df-container\">\n",
              "    <div>\n",
              "<style scoped>\n",
              "    .dataframe tbody tr th:only-of-type {\n",
              "        vertical-align: middle;\n",
              "    }\n",
              "\n",
              "    .dataframe tbody tr th {\n",
              "        vertical-align: top;\n",
              "    }\n",
              "\n",
              "    .dataframe thead th {\n",
              "        text-align: right;\n",
              "    }\n",
              "</style>\n",
              "<table border=\"1\" class=\"dataframe\">\n",
              "  <thead>\n",
              "    <tr style=\"text-align: right;\">\n",
              "      <th></th>\n",
              "      <th>username</th>\n",
              "      <th>content</th>\n",
              "      <th>sentiment</th>\n",
              "    </tr>\n",
              "  </thead>\n",
              "  <tbody>\n",
              "    <tr>\n",
              "      <th>0</th>\n",
              "      <td>z*****e</td>\n",
              "      <td>Pertama kali coba karena baca ulasan di Quora ...</td>\n",
              "      <td>positif</td>\n",
              "    </tr>\n",
              "    <tr>\n",
              "      <th>1</th>\n",
              "      <td>dindardew</td>\n",
              "      <td>Penasaran bgt dari dulu udah laser jg bekas lu...</td>\n",
              "      <td>netral</td>\n",
              "    </tr>\n",
              "    <tr>\n",
              "      <th>2</th>\n",
              "      <td>dikamungil</td>\n",
              "      <td>Udah ku pke beberapa kali sih, semoga bermanfa...</td>\n",
              "      <td>positif</td>\n",
              "    </tr>\n",
              "    <tr>\n",
              "      <th>3</th>\n",
              "      <td>cakranouval</td>\n",
              "      <td>kecewa, kemasan penyok</td>\n",
              "      <td>negatif</td>\n",
              "    </tr>\n",
              "    <tr>\n",
              "      <th>4</th>\n",
              "      <td>ilhamansyari22</td>\n",
              "      <td>Barang sesuai pesanan ‚ò∫Ô∏è</td>\n",
              "      <td>netral</td>\n",
              "    </tr>\n",
              "    <tr>\n",
              "      <th>5</th>\n",
              "      <td>inggihsatrianisatriani</td>\n",
              "      <td>Baru pertama kali coba mudah mudahan bisa puda...</td>\n",
              "      <td>positif</td>\n",
              "    </tr>\n",
              "    <tr>\n",
              "      <th>6</th>\n",
              "      <td>m*****4</td>\n",
              "      <td>Baru mau nyoba, semoga manjur menghilangkan be...</td>\n",
              "      <td>positif</td>\n",
              "    </tr>\n",
              "    <tr>\n",
              "      <th>7</th>\n",
              "      <td>nonaa2</td>\n",
              "      <td>Cottonbud gak dikasih, pelit banget, gimana pa...</td>\n",
              "      <td>negatif</td>\n",
              "    </tr>\n",
              "    <tr>\n",
              "      <th>8</th>\n",
              "      <td>linarifqun</td>\n",
              "      <td>Alhamdulillah Paketku sudah sampai pesanannya ...</td>\n",
              "      <td>positif</td>\n",
              "    </tr>\n",
              "    <tr>\n",
              "      <th>9</th>\n",
              "      <td>v*****8</td>\n",
              "      <td>Dikasih thr sama kakaknya, MasyaAllah berkah s...</td>\n",
              "      <td>positif</td>\n",
              "    </tr>\n",
              "  </tbody>\n",
              "</table>\n",
              "</div>\n",
              "    <div class=\"colab-df-buttons\">\n",
              "\n",
              "  <div class=\"colab-df-container\">\n",
              "    <button class=\"colab-df-convert\" onclick=\"convertToInteractive('df-15cc08ae-b7fb-4755-8222-63dede67289a')\"\n",
              "            title=\"Convert this dataframe to an interactive table.\"\n",
              "            style=\"display:none;\">\n",
              "\n",
              "  <svg xmlns=\"http://www.w3.org/2000/svg\" height=\"24px\" viewBox=\"0 -960 960 960\">\n",
              "    <path d=\"M120-120v-720h720v720H120Zm60-500h600v-160H180v160Zm220 220h160v-160H400v160Zm0 220h160v-160H400v160ZM180-400h160v-160H180v160Zm440 0h160v-160H620v160ZM180-180h160v-160H180v160Zm440 0h160v-160H620v160Z\"/>\n",
              "  </svg>\n",
              "    </button>\n",
              "\n",
              "  <style>\n",
              "    .colab-df-container {\n",
              "      display:flex;\n",
              "      gap: 12px;\n",
              "    }\n",
              "\n",
              "    .colab-df-convert {\n",
              "      background-color: #E8F0FE;\n",
              "      border: none;\n",
              "      border-radius: 50%;\n",
              "      cursor: pointer;\n",
              "      display: none;\n",
              "      fill: #1967D2;\n",
              "      height: 32px;\n",
              "      padding: 0 0 0 0;\n",
              "      width: 32px;\n",
              "    }\n",
              "\n",
              "    .colab-df-convert:hover {\n",
              "      background-color: #E2EBFA;\n",
              "      box-shadow: 0px 1px 2px rgba(60, 64, 67, 0.3), 0px 1px 3px 1px rgba(60, 64, 67, 0.15);\n",
              "      fill: #174EA6;\n",
              "    }\n",
              "\n",
              "    .colab-df-buttons div {\n",
              "      margin-bottom: 4px;\n",
              "    }\n",
              "\n",
              "    [theme=dark] .colab-df-convert {\n",
              "      background-color: #3B4455;\n",
              "      fill: #D2E3FC;\n",
              "    }\n",
              "\n",
              "    [theme=dark] .colab-df-convert:hover {\n",
              "      background-color: #434B5C;\n",
              "      box-shadow: 0px 1px 3px 1px rgba(0, 0, 0, 0.15);\n",
              "      filter: drop-shadow(0px 1px 2px rgba(0, 0, 0, 0.3));\n",
              "      fill: #FFFFFF;\n",
              "    }\n",
              "  </style>\n",
              "\n",
              "    <script>\n",
              "      const buttonEl =\n",
              "        document.querySelector('#df-15cc08ae-b7fb-4755-8222-63dede67289a button.colab-df-convert');\n",
              "      buttonEl.style.display =\n",
              "        google.colab.kernel.accessAllowed ? 'block' : 'none';\n",
              "\n",
              "      async function convertToInteractive(key) {\n",
              "        const element = document.querySelector('#df-15cc08ae-b7fb-4755-8222-63dede67289a');\n",
              "        const dataTable =\n",
              "          await google.colab.kernel.invokeFunction('convertToInteractive',\n",
              "                                                    [key], {});\n",
              "        if (!dataTable) return;\n",
              "\n",
              "        const docLinkHtml = 'Like what you see? Visit the ' +\n",
              "          '<a target=\"_blank\" href=https://colab.research.google.com/notebooks/data_table.ipynb>data table notebook</a>'\n",
              "          + ' to learn more about interactive tables.';\n",
              "        element.innerHTML = '';\n",
              "        dataTable['output_type'] = 'display_data';\n",
              "        await google.colab.output.renderOutput(dataTable, element);\n",
              "        const docLink = document.createElement('div');\n",
              "        docLink.innerHTML = docLinkHtml;\n",
              "        element.appendChild(docLink);\n",
              "      }\n",
              "    </script>\n",
              "  </div>\n",
              "\n",
              "\n",
              "<div id=\"df-4fe5dffe-e859-47d7-ad03-7e2668d60ef9\">\n",
              "  <button class=\"colab-df-quickchart\" onclick=\"quickchart('df-4fe5dffe-e859-47d7-ad03-7e2668d60ef9')\"\n",
              "            title=\"Suggest charts\"\n",
              "            style=\"display:none;\">\n",
              "\n",
              "<svg xmlns=\"http://www.w3.org/2000/svg\" height=\"24px\"viewBox=\"0 0 24 24\"\n",
              "     width=\"24px\">\n",
              "    <g>\n",
              "        <path d=\"M19 3H5c-1.1 0-2 .9-2 2v14c0 1.1.9 2 2 2h14c1.1 0 2-.9 2-2V5c0-1.1-.9-2-2-2zM9 17H7v-7h2v7zm4 0h-2V7h2v10zm4 0h-2v-4h2v4z\"/>\n",
              "    </g>\n",
              "</svg>\n",
              "  </button>\n",
              "\n",
              "<style>\n",
              "  .colab-df-quickchart {\n",
              "      --bg-color: #E8F0FE;\n",
              "      --fill-color: #1967D2;\n",
              "      --hover-bg-color: #E2EBFA;\n",
              "      --hover-fill-color: #174EA6;\n",
              "      --disabled-fill-color: #AAA;\n",
              "      --disabled-bg-color: #DDD;\n",
              "  }\n",
              "\n",
              "  [theme=dark] .colab-df-quickchart {\n",
              "      --bg-color: #3B4455;\n",
              "      --fill-color: #D2E3FC;\n",
              "      --hover-bg-color: #434B5C;\n",
              "      --hover-fill-color: #FFFFFF;\n",
              "      --disabled-bg-color: #3B4455;\n",
              "      --disabled-fill-color: #666;\n",
              "  }\n",
              "\n",
              "  .colab-df-quickchart {\n",
              "    background-color: var(--bg-color);\n",
              "    border: none;\n",
              "    border-radius: 50%;\n",
              "    cursor: pointer;\n",
              "    display: none;\n",
              "    fill: var(--fill-color);\n",
              "    height: 32px;\n",
              "    padding: 0;\n",
              "    width: 32px;\n",
              "  }\n",
              "\n",
              "  .colab-df-quickchart:hover {\n",
              "    background-color: var(--hover-bg-color);\n",
              "    box-shadow: 0 1px 2px rgba(60, 64, 67, 0.3), 0 1px 3px 1px rgba(60, 64, 67, 0.15);\n",
              "    fill: var(--button-hover-fill-color);\n",
              "  }\n",
              "\n",
              "  .colab-df-quickchart-complete:disabled,\n",
              "  .colab-df-quickchart-complete:disabled:hover {\n",
              "    background-color: var(--disabled-bg-color);\n",
              "    fill: var(--disabled-fill-color);\n",
              "    box-shadow: none;\n",
              "  }\n",
              "\n",
              "  .colab-df-spinner {\n",
              "    border: 2px solid var(--fill-color);\n",
              "    border-color: transparent;\n",
              "    border-bottom-color: var(--fill-color);\n",
              "    animation:\n",
              "      spin 1s steps(1) infinite;\n",
              "  }\n",
              "\n",
              "  @keyframes spin {\n",
              "    0% {\n",
              "      border-color: transparent;\n",
              "      border-bottom-color: var(--fill-color);\n",
              "      border-left-color: var(--fill-color);\n",
              "    }\n",
              "    20% {\n",
              "      border-color: transparent;\n",
              "      border-left-color: var(--fill-color);\n",
              "      border-top-color: var(--fill-color);\n",
              "    }\n",
              "    30% {\n",
              "      border-color: transparent;\n",
              "      border-left-color: var(--fill-color);\n",
              "      border-top-color: var(--fill-color);\n",
              "      border-right-color: var(--fill-color);\n",
              "    }\n",
              "    40% {\n",
              "      border-color: transparent;\n",
              "      border-right-color: var(--fill-color);\n",
              "      border-top-color: var(--fill-color);\n",
              "    }\n",
              "    60% {\n",
              "      border-color: transparent;\n",
              "      border-right-color: var(--fill-color);\n",
              "    }\n",
              "    80% {\n",
              "      border-color: transparent;\n",
              "      border-right-color: var(--fill-color);\n",
              "      border-bottom-color: var(--fill-color);\n",
              "    }\n",
              "    90% {\n",
              "      border-color: transparent;\n",
              "      border-bottom-color: var(--fill-color);\n",
              "    }\n",
              "  }\n",
              "</style>\n",
              "\n",
              "  <script>\n",
              "    async function quickchart(key) {\n",
              "      const quickchartButtonEl =\n",
              "        document.querySelector('#' + key + ' button');\n",
              "      quickchartButtonEl.disabled = true;  // To prevent multiple clicks.\n",
              "      quickchartButtonEl.classList.add('colab-df-spinner');\n",
              "      try {\n",
              "        const charts = await google.colab.kernel.invokeFunction(\n",
              "            'suggestCharts', [key], {});\n",
              "      } catch (error) {\n",
              "        console.error('Error during call to suggestCharts:', error);\n",
              "      }\n",
              "      quickchartButtonEl.classList.remove('colab-df-spinner');\n",
              "      quickchartButtonEl.classList.add('colab-df-quickchart-complete');\n",
              "    }\n",
              "    (() => {\n",
              "      let quickchartButtonEl =\n",
              "        document.querySelector('#df-4fe5dffe-e859-47d7-ad03-7e2668d60ef9 button');\n",
              "      quickchartButtonEl.style.display =\n",
              "        google.colab.kernel.accessAllowed ? 'block' : 'none';\n",
              "    })();\n",
              "  </script>\n",
              "</div>\n",
              "\n",
              "    </div>\n",
              "  </div>\n"
            ],
            "application/vnd.google.colaboratory.intrinsic+json": {
              "type": "dataframe",
              "variable_name": "df_selected",
              "summary": "{\n  \"name\": \"df_selected\",\n  \"rows\": 1174,\n  \"fields\": [\n    {\n      \"column\": \"username\",\n      \"properties\": {\n        \"dtype\": \"string\",\n        \"num_unique_values\": 875,\n        \"samples\": [\n          \"pandjiokeoke\",\n          \"reshaw\",\n          \"aryatiyati270\"\n        ],\n        \"semantic_type\": \"\",\n        \"description\": \"\"\n      }\n    },\n    {\n      \"column\": \"content\",\n      \"properties\": {\n        \"dtype\": \"string\",\n        \"num_unique_values\": 1147,\n        \"samples\": [\n          \"baru pertama kali coba, tapi yakin sih ini beneran ngasih efek dari baca reviewnya udah banyak yg buktiin, sukses selalu untuk ownernya\\u201a\\u00f2\\u222b\\u00d4\\u220f\\u00e8\",\n          \"YAP PACKING RAPIH SAMPE CEPET BANGET TERTULIS TGL 1-4 TERNYATA 3 HARI SAMPE MANTAP DAH POKONYA SUKSES SELALU\",\n          \"Alhamdulillah udah nyampe barang nya...mudah2 han keloid anak ku hilang.. Amin\\uf8ff\\u00fc\\u00a7\\u2264\"\n        ],\n        \"semantic_type\": \"\",\n        \"description\": \"\"\n      }\n    },\n    {\n      \"column\": \"sentiment\",\n      \"properties\": {\n        \"dtype\": \"category\",\n        \"num_unique_values\": 3,\n        \"samples\": [\n          \"positif\",\n          \"netral\",\n          \"negatif\"\n        ],\n        \"semantic_type\": \"\",\n        \"description\": \"\"\n      }\n    }\n  ]\n}"
            }
          },
          "metadata": {},
          "execution_count": 4
        }
      ]
    },
    {
      "cell_type": "markdown",
      "source": [
        "Menghitung jumlah data untuk setiap kategori sentimen"
      ],
      "metadata": {
        "id": "hxNwYGyWfe7h"
      }
    },
    {
      "cell_type": "code",
      "source": [
        "sentiment_counts = df_selected['sentiment'].value_counts()\n",
        "# Menampilkan jumlah data untuk setiap kategori\n",
        "print(\"\\n=== Jumlah Sentimen Sebelum Prediksi ===\")\n",
        "for sentiment, count in sentiment_counts.items():\n",
        "    print(f\"{sentiment.capitalize()}: {count} data\")"
      ],
      "metadata": {
        "colab": {
          "base_uri": "https://localhost:8080/"
        },
        "id": "QYVhyVKofhcw",
        "outputId": "c81ebe3b-7bfb-494c-eaca-b69efcd9e013"
      },
      "execution_count": 5,
      "outputs": [
        {
          "output_type": "stream",
          "name": "stdout",
          "text": [
            "\n",
            "=== Jumlah Sentimen Sebelum Prediksi ===\n",
            "Positif: 677 data\n",
            "Netral: 336 data\n",
            "Negatif: 161 data\n"
          ]
        }
      ]
    },
    {
      "cell_type": "markdown",
      "source": [
        "# **DATA PREPROCESSING**\n",
        "\n",
        "---\n",
        "\n"
      ],
      "metadata": {
        "id": "FnTOc3VVmwr_"
      }
    },
    {
      "cell_type": "markdown",
      "source": [
        "Daftar stopwords dari NLTK dan tambahan khusus Bahasa Indonesia"
      ],
      "metadata": {
        "id": "soKaTNfTJruV"
      }
    },
    {
      "cell_type": "code",
      "source": [
        "stopwords_tambahan = list([\n",
        "    'gk', 'yg', 'nya', 'dan', 'dll', 'saja', 'juga', 'untuk', 'dengan', 'atau',\n",
        "    'tapi', 'karena', 'seperti', 'yang', 'saya', 'ga', 'malah', 'tidak', 'lagi',\n",
        "    'ini', 'di', 'kok', 'aja', 'gak', 'jadi', 'ya', 'dah', 'bisa', 'ada', 'bgt',\n",
        "    'banget', 'kak', 'ituu', 'grgr', 'jd', 'pengen', 'dgn', 'udah', 'klo', 'tp',\n",
        "    'pa', 'udh', 'karin', 'bgtt', 'ig', 'po', 'tau', 'utk', 'karna', 'brangnya',\n",
        "    'ngk', 'kyk', 'sy', 'tp', 'uda', 'nga', 'dngn', 'kalo', 'gamau', 'becak', 'kya',\n",
        "    'sma', 'jdi', 'ad', 'lg', 'pa', 'huhu', 'dpt', 'gel', 'b', 'jg', 'rb', 'hehe',\n",
        "    'pdhl', 'dr', 'ku', 'sih', 'ka', 'kyk', 'sy', 'bli', 'skali', 'dikrim', 'berharap',\n",
        "    'kirim', 'jdi', 'pkai', 'penjual', 'brangnya', 'becak', 'tpi', 'blum', 'bgin'\n",
        "])"
      ],
      "metadata": {
        "id": "RKShF-BcJxEd"
      },
      "execution_count": 6,
      "outputs": []
    },
    {
      "cell_type": "markdown",
      "source": [
        "Inisialisasi Stemmer dari Sastrawi"
      ],
      "metadata": {
        "id": "NVMDD5MwJ1-u"
      }
    },
    {
      "cell_type": "code",
      "source": [
        "!pip install Sastrawi\n",
        "from Sastrawi.Stemmer.StemmerFactory import StemmerFactory\n",
        "factory = StemmerFactory()\n",
        "stemmer = factory.create_stemmer()"
      ],
      "metadata": {
        "id": "iFtkyc86J8j7",
        "colab": {
          "base_uri": "https://localhost:8080/"
        },
        "outputId": "aa9cd8de-718e-40ac-e715-b9d687cce806"
      },
      "execution_count": 7,
      "outputs": [
        {
          "output_type": "stream",
          "name": "stdout",
          "text": [
            "Requirement already satisfied: Sastrawi in /usr/local/lib/python3.10/dist-packages (1.0.1)\n"
          ]
        }
      ]
    },
    {
      "cell_type": "markdown",
      "source": [
        "Pembersihan teks"
      ],
      "metadata": {
        "id": "6kTHYQUsJ-QK"
      }
    },
    {
      "cell_type": "code",
      "source": [
        "def clean_text(teks):\n",
        "    if not isinstance(teks, str):\n",
        "        return \"\"\n",
        "    teks = teks.lower()\n",
        "    teks = re.sub(r'http\\S+|www\\S+|https\\S+', '', teks)  # Menghapus URL\n",
        "    teks = re.sub(r'[^\\x00-\\x7F]+', ' ', teks)  # Menghilangkan karakter non-ASCII\n",
        "    teks = teks.translate(str.maketrans('', '', string.punctuation))  # Menghapus tanda baca\n",
        "    teks = re.sub(r'\\d+', '', teks)  # Menghapus angka\n",
        "    return teks"
      ],
      "metadata": {
        "id": "2DZiBKa9KBRN"
      },
      "execution_count": 8,
      "outputs": []
    },
    {
      "cell_type": "markdown",
      "source": [
        "Fungsi untuk tokenisasi"
      ],
      "metadata": {
        "id": "EM0NQPm1a5O6"
      }
    },
    {
      "cell_type": "code",
      "source": [
        "def tokenize(teks):\n",
        "    return teks.split()"
      ],
      "metadata": {
        "id": "KgZ8CHc0a71h"
      },
      "execution_count": 9,
      "outputs": []
    },
    {
      "cell_type": "markdown",
      "source": [
        "Fungsi untuk stemming"
      ],
      "metadata": {
        "id": "7IDXQwqAa_bI"
      }
    },
    {
      "cell_type": "code",
      "source": [
        "def apply_stemming(tokens):\n",
        "    return [stemmer.stem(token) for token in tokens]"
      ],
      "metadata": {
        "id": "UYFB3nQ9bD6A"
      },
      "execution_count": 10,
      "outputs": []
    },
    {
      "cell_type": "markdown",
      "source": [
        "Terapkan pra-pemrosesan ke data"
      ],
      "metadata": {
        "id": "R_PpccG5lzgX"
      }
    },
    {
      "cell_type": "code",
      "source": [
        "df_selected['cleaned_content'] = df_selected['content'].apply(clean_text)"
      ],
      "metadata": {
        "colab": {
          "base_uri": "https://localhost:8080/"
        },
        "id": "3Iv6vGidl1I8",
        "outputId": "77663154-b257-4d26-f794-8302bdbc7917"
      },
      "execution_count": 11,
      "outputs": [
        {
          "output_type": "stream",
          "name": "stderr",
          "text": [
            "<ipython-input-11-e0c27e1bd33e>:1: SettingWithCopyWarning: \n",
            "A value is trying to be set on a copy of a slice from a DataFrame.\n",
            "Try using .loc[row_indexer,col_indexer] = value instead\n",
            "\n",
            "See the caveats in the documentation: https://pandas.pydata.org/pandas-docs/stable/user_guide/indexing.html#returning-a-view-versus-a-copy\n",
            "  df_selected['cleaned_content'] = df_selected['content'].apply(clean_text)\n"
          ]
        }
      ]
    },
    {
      "cell_type": "markdown",
      "source": [
        "Menampilkan hasil tokenisasi dan stemming untuk 5 sampel teratas"
      ],
      "metadata": {
        "id": "NjibvaOsYDmo"
      }
    },
    {
      "cell_type": "code",
      "source": [
        "print(\"\\n=== Hasil Tokenisasi dan Stemming untuk 5 Sampel Teratas ===\")\n",
        "for i in range(5):  # Menampilkan 5 contoh pertama\n",
        "    original_text = df_selected.iloc[i]['content']\n",
        "    cleaned_text = df_selected.iloc[i]['cleaned_content']\n",
        "    tokens = tokenize(cleaned_text)\n",
        "    stemmed_tokens = apply_stemming(tokens)\n",
        "\n",
        "    print(f\"Contoh {i+1}:\")\n",
        "    print(\"Teks Asli:\", original_text)\n",
        "    print(\"Setelah Pembersihan:\", cleaned_text)\n",
        "    print(\"Setelah Tokenisasi:\", tokens)\n",
        "    print(\"Setelah Stemming:\", stemmed_tokens)\n",
        "    print(\"-\" * 50)"
      ],
      "metadata": {
        "colab": {
          "base_uri": "https://localhost:8080/"
        },
        "id": "cNVPzOjeYEVt",
        "outputId": "d6bac100-8eec-4fb2-a84b-93d8ea64efcd"
      },
      "execution_count": 12,
      "outputs": [
        {
          "output_type": "stream",
          "name": "stdout",
          "text": [
            "\n",
            "=== Hasil Tokenisasi dan Stemming untuk 5 Sampel Teratas ===\n",
            "Contoh 1:\n",
            "Teks Asli: Pertama kali coba karena baca ulasan di Quora katanya bagus, semoga ngefek bekas2 korengan pas hamil anak ke 2 memudar, hasilnya pemakaian 1 botol insyaallah akan aku update ya.. kalo emang bagus pasti repurchase (beli lagi) di toko ini, Sellernya ramah dan amanah.. suka kalo di chat gercep di balas gak pake lama, pengiriman ke Jakarta juga cepat.i\n",
            "Setelah Pembersihan: pertama kali coba karena baca ulasan di quora katanya bagus semoga ngefek bekas korengan pas hamil anak ke  memudar hasilnya pemakaian  botol insyaallah akan aku update ya kalo emang bagus pasti repurchase beli lagi di toko ini sellernya ramah dan amanah suka kalo di chat gercep di balas gak pake lama pengiriman ke jakarta juga cepati\n",
            "Setelah Tokenisasi: ['pertama', 'kali', 'coba', 'karena', 'baca', 'ulasan', 'di', 'quora', 'katanya', 'bagus', 'semoga', 'ngefek', 'bekas', 'korengan', 'pas', 'hamil', 'anak', 'ke', 'memudar', 'hasilnya', 'pemakaian', 'botol', 'insyaallah', 'akan', 'aku', 'update', 'ya', 'kalo', 'emang', 'bagus', 'pasti', 'repurchase', 'beli', 'lagi', 'di', 'toko', 'ini', 'sellernya', 'ramah', 'dan', 'amanah', 'suka', 'kalo', 'di', 'chat', 'gercep', 'di', 'balas', 'gak', 'pake', 'lama', 'pengiriman', 'ke', 'jakarta', 'juga', 'cepati']\n",
            "Setelah Stemming: ['pertama', 'kali', 'coba', 'karena', 'baca', 'ulas', 'di', 'quora', 'kata', 'bagus', 'moga', 'ngefek', 'bekas', 'koreng', 'pas', 'hamil', 'anak', 'ke', 'pudar', 'hasil', 'pakai', 'botol', 'insyaallah', 'akan', 'aku', 'update', 'ya', 'kalo', 'emang', 'bagus', 'pasti', 'repurchase', 'beli', 'lagi', 'di', 'toko', 'ini', 'sellernya', 'ramah', 'dan', 'amanah', 'suka', 'kalo', 'di', 'chat', 'gercep', 'di', 'balas', 'gak', 'pake', 'lama', 'kirim', 'ke', 'jakarta', 'juga', 'cepat']\n",
            "--------------------------------------------------\n",
            "Contoh 2:\n",
            "Teks Asli: Penasaran bgt dari dulu udah laser jg bekas luka gak ilang Nemu produk ini jadi coba aja dulu siapa tau cocok order 2 langsung kk\n",
            "Setelah Pembersihan: penasaran bgt dari dulu udah laser jg bekas luka gak ilang nemu produk ini jadi coba aja dulu siapa tau cocok order  langsung kk\n",
            "Setelah Tokenisasi: ['penasaran', 'bgt', 'dari', 'dulu', 'udah', 'laser', 'jg', 'bekas', 'luka', 'gak', 'ilang', 'nemu', 'produk', 'ini', 'jadi', 'coba', 'aja', 'dulu', 'siapa', 'tau', 'cocok', 'order', 'langsung', 'kk']\n",
            "Setelah Stemming: ['penasaran', 'bgt', 'dari', 'dulu', 'udah', 'laser', 'jg', 'bekas', 'luka', 'gak', 'ilang', 'nemu', 'produk', 'ini', 'jadi', 'coba', 'aja', 'dulu', 'siapa', 'tau', 'cocok', 'order', 'langsung', 'kk']\n",
            "--------------------------------------------------\n",
            "Contoh 3:\n",
            "Teks Asli: Udah ku pke beberapa kali sih, semoga bermanfaat. Makasih ya seller. Harganya mahal tp semoga ampuuuuh yaaaa\n",
            "Setelah Pembersihan: udah ku pke beberapa kali sih semoga bermanfaat makasih ya seller harganya mahal tp semoga ampuuuuh yaaaa\n",
            "Setelah Tokenisasi: ['udah', 'ku', 'pke', 'beberapa', 'kali', 'sih', 'semoga', 'bermanfaat', 'makasih', 'ya', 'seller', 'harganya', 'mahal', 'tp', 'semoga', 'ampuuuuh', 'yaaaa']\n",
            "Setelah Stemming: ['udah', 'ku', 'pke', 'beberapa', 'kali', 'sih', 'moga', 'manfaat', 'makasih', 'ya', 'seller', 'harga', 'mahal', 'tp', 'moga', 'ampuuuuh', 'yaaaa']\n",
            "--------------------------------------------------\n",
            "Contoh 4:\n",
            "Teks Asli: kecewa, kemasan penyok\n",
            "Setelah Pembersihan: kecewa kemasan penyok\n",
            "Setelah Tokenisasi: ['kecewa', 'kemasan', 'penyok']\n",
            "Setelah Stemming: ['kecewa', 'kemas', 'penyok']\n",
            "--------------------------------------------------\n",
            "Contoh 5:\n",
            "Teks Asli: Barang sesuai pesanan ‚ò∫Ô∏è\n",
            "Setelah Pembersihan: barang sesuai pesanan  \n",
            "Setelah Tokenisasi: ['barang', 'sesuai', 'pesanan']\n",
            "Setelah Stemming: ['barang', 'sesuai', 'pesan']\n",
            "--------------------------------------------------\n"
          ]
        }
      ]
    },
    {
      "cell_type": "markdown",
      "source": [
        "# **DATA TRANSFORMASI**\n",
        "\n",
        "---\n",
        "\n"
      ],
      "metadata": {
        "id": "cBDGOTHCnQ-D"
      }
    },
    {
      "cell_type": "markdown",
      "source": [
        "Vektorisasi menggunakan TF-IDF dengan unigram, bigram, dan trigram"
      ],
      "metadata": {
        "id": "pMFLBVsrVnfE"
      }
    },
    {
      "cell_type": "code",
      "source": [
        "vectorizer = TfidfVectorizer(\n",
        "    ngram_range=(1, 3),\n",
        "    max_df=0.75,\n",
        "    min_df=3,\n",
        "    stop_words=stopwords_tambahan,\n",
        "    max_features=5000\n",
        ")\n",
        "X_tfidf = vectorizer.fit_transform(df_selected['cleaned_content']) #Mengubah teks pada kolom 'cleaned_content' menjadi fitur numerik menggunakan TF-IDF\n",
        "feature_names = vectorizer.get_feature_names_out() #Mengambil fitur nama TF-IDF\n",
        "tfidf_df = pd.DataFrame(X_tfidf.toarray(), columns=feature_names[:X_tfidf.shape[1]]) #Mengubah hasil TF-IDF menjadi DataFrame untuk kemudahan visualisasi"
      ],
      "metadata": {
        "id": "2W8YTQiZVpYu"
      },
      "execution_count": 13,
      "outputs": []
    },
    {
      "cell_type": "markdown",
      "source": [
        "Menambahkan kolom 'username' dan 'cleaned_content' untuk referensi"
      ],
      "metadata": {
        "id": "7vCbqwved7_c"
      }
    },
    {
      "cell_type": "code",
      "source": [
        "tfidf_df.insert(0, 'username', df_selected['username'].reset_index(drop=True))\n",
        "tfidf_df.insert(1, 'cleaned_content', df_selected['cleaned_content'].reset_index(drop=True))\n",
        "\n",
        "# Menampilkan 5 ulasan teratas setelah TF-IDF\n",
        "print(\"\\n=== 5 Ulasan Teratas Setelah TF-IDF ===\")\n",
        "print(tfidf_df.head(5))"
      ],
      "metadata": {
        "colab": {
          "base_uri": "https://localhost:8080/"
        },
        "id": "c3dP2dm2d8od",
        "outputId": "df4f44e5-fde7-4fb9-d17e-bce0fc4316ea"
      },
      "execution_count": 14,
      "outputs": [
        {
          "output_type": "stream",
          "name": "stdout",
          "text": [
            "\n",
            "=== 5 Ulasan Teratas Setelah TF-IDF ===\n",
            "         username                                    cleaned_content  aamiin  \\\n",
            "0         z*****e  pertama kali coba karena baca ulasan di quora ...     0.0   \n",
            "1       dindardew  penasaran bgt dari dulu udah laser jg bekas lu...     0.0   \n",
            "2      dikamungil  udah ku pke beberapa kali sih semoga bermanfaa...     0.0   \n",
            "3     cakranouval                              kecewa kemasan penyok     0.0   \n",
            "4  ilhamansyari22                            barang sesuai pesanan       0.0   \n",
            "\n",
            "   abis  adain  adain promo  adalah  adha  admin  adminnya  ...  worth  \\\n",
            "0   0.0    0.0          0.0     0.0   0.0    0.0       0.0  ...    0.0   \n",
            "1   0.0    0.0          0.0     0.0   0.0    0.0       0.0  ...    0.0   \n",
            "2   0.0    0.0          0.0     0.0   0.0    0.0       0.0  ...    0.0   \n",
            "3   0.0    0.0          0.0     0.0   0.0    0.0       0.0  ...    0.0   \n",
            "4   0.0    0.0          0.0     0.0   0.0    0.0       0.0  ...    0.0   \n",
            "\n",
            "   worth it  wrap  yaa  yaaa     yaaaa  yah  yakin  yey  you  \n",
            "0       0.0   0.0  0.0   0.0  0.000000  0.0    0.0  0.0  0.0  \n",
            "1       0.0   0.0  0.0   0.0  0.000000  0.0    0.0  0.0  0.0  \n",
            "2       0.0   0.0  0.0   0.0  0.309996  0.0    0.0  0.0  0.0  \n",
            "3       0.0   0.0  0.0   0.0  0.000000  0.0    0.0  0.0  0.0  \n",
            "4       0.0   0.0  0.0   0.0  0.000000  0.0    0.0  0.0  0.0  \n",
            "\n",
            "[5 rows x 1506 columns]\n"
          ]
        }
      ]
    },
    {
      "cell_type": "markdown",
      "source": [
        "# **DATA MINING (Model : Naive Bayes)**\n",
        "\n",
        "---\n",
        "\n"
      ],
      "metadata": {
        "id": "CgvlcY8VaNT9"
      }
    },
    {
      "cell_type": "markdown",
      "source": [
        "Membagi dataset menjadi fitur (X) dan target (y)"
      ],
      "metadata": {
        "id": "598iVYdWfNz-"
      }
    },
    {
      "cell_type": "code",
      "source": [
        "X = df_selected['cleaned_content']\n",
        "y = df_selected['sentiment']"
      ],
      "metadata": {
        "id": "-4dlqwRGfSi0"
      },
      "execution_count": 15,
      "outputs": []
    },
    {
      "cell_type": "markdown",
      "source": [
        "Membagi data latih dan data uji"
      ],
      "metadata": {
        "id": "j8Em80XpdzaV"
      }
    },
    {
      "cell_type": "code",
      "source": [
        "X_train, X_test, y_train, y_test = train_test_split(X_tfidf, y, test_size=0.1, random_state=42)"
      ],
      "metadata": {
        "id": "eBKIzoNBd3wu"
      },
      "execution_count": 16,
      "outputs": []
    },
    {
      "cell_type": "markdown",
      "source": [
        "Latih model Naive Bayes"
      ],
      "metadata": {
        "id": "MaoH7MniVKKN"
      }
    },
    {
      "cell_type": "code",
      "source": [
        "nb_model = MultinomialNB()\n",
        "param_grid = {'alpha': [0.1, 0.5, 1, 5, 10]}\n",
        "grid_search = GridSearchCV(nb_model, param_grid, cv=5, scoring='accuracy')\n",
        "grid_search.fit(X_train, y_train)"
      ],
      "metadata": {
        "id": "Ly5gu_V9bRsW"
      },
      "execution_count": null,
      "outputs": []
    },
    {
      "cell_type": "markdown",
      "source": [
        "Menampilkan parameter terbaik"
      ],
      "metadata": {
        "id": "0JjS9GF2fcmC"
      }
    },
    {
      "cell_type": "code",
      "source": [
        "print(\"Parameter terbaik:\", grid_search.best_params_)\n",
        "best_nb_model = grid_search.best_estimator_\n",
        "y_pred = best_nb_model.predict(X_test)"
      ],
      "metadata": {
        "id": "e6HlkQdXfedj"
      },
      "execution_count": null,
      "outputs": []
    },
    {
      "cell_type": "markdown",
      "source": [
        "Menampilkan laporan klasifikasi"
      ],
      "metadata": {
        "id": "p8_iYV2xfpV-"
      }
    },
    {
      "cell_type": "code",
      "source": [
        "print(\"\\n=== Evaluasi Model ===\")\n",
        "print(classification_report(y_test, y_pred))\n",
        "accuracy = accuracy_score(y_test, y_pred)\n",
        "print(f\"Accuracy: {accuracy:.2f}\")"
      ],
      "metadata": {
        "id": "re4NkmHofrca"
      },
      "execution_count": null,
      "outputs": []
    },
    {
      "cell_type": "markdown",
      "source": [
        "Confusion Matrix untuk data uji"
      ],
      "metadata": {
        "id": "-qWmwmc0v6Ma"
      }
    },
    {
      "cell_type": "code",
      "source": [
        "conf_matrix = confusion_matrix(y_test, y_pred, labels=['negatif', 'netral', 'positif'])\n",
        "\n",
        "# Menampilkan confusion matrix\n",
        "plt.figure(figsize=(8, 6))\n",
        "sns.heatmap(conf_matrix, annot=True, fmt='d', cmap='Blues',\n",
        "            xticklabels=['negatif', 'netral', 'positif'],\n",
        "            yticklabels=['negatif', 'netral', 'positif'])\n",
        "plt.xlabel(\"Prediksi Label\")\n",
        "plt.ylabel(\"Label Asli\")\n",
        "plt.title(\"Confusion Matrix\")\n",
        "plt.show()"
      ],
      "metadata": {
        "id": "W6WbdppiwmEX"
      },
      "execution_count": null,
      "outputs": []
    },
    {
      "cell_type": "markdown",
      "source": [
        "Menghitung confusion matrix"
      ],
      "metadata": {
        "id": "kEJICSw0mfBN"
      }
    },
    {
      "cell_type": "code",
      "source": [
        "classes = ['negatif', 'netral', 'positif']\n",
        "\n",
        "# Membuat confusion matrix dengan label yang telah didefinisikan\n",
        "conf_matrix_all = confusion_matrix(y_test, y_pred, labels=classes)\n",
        "\n",
        "# Menghitung True Positives, False Positives, False Negatives, dan True Negatives untuk setiap kelas\n",
        "TP = np.diag(conf_matrix_all)  # True Positives untuk setiap kelas\n",
        "FP = np.sum(conf_matrix_all, axis=0) - TP  # False Positives untuk setiap kelas\n",
        "FN = np.sum(conf_matrix_all, axis=1) - TP  # False Negatives untuk setiap kelas\n",
        "TN = np.sum(conf_matrix_all) - (FP + FN + TP)  # True Negatives untuk setiap kelas\n",
        "\n",
        "# Perhitungan khusus untuk kelas 'netral'\n",
        "netral_index = classes.index(\"netral\")\n",
        "TNt = TP[netral_index]  # True Neutral untuk kelas netral\n",
        "FNt = FN[netral_index]  # False Neutral untuk kelas netral"
      ],
      "metadata": {
        "id": "TLXyNzmCmhD3"
      },
      "execution_count": null,
      "outputs": []
    },
    {
      "cell_type": "markdown",
      "source": [
        "Menghitung Akurasi"
      ],
      "metadata": {
        "id": "LoJJTVVtnC0C"
      }
    },
    {
      "cell_type": "code",
      "source": [
        "total_correct = np.sum(TP)  # Semua prediksi benar (ΣTP)\n",
        "total_data = np.sum(conf_matrix_all)  # Total seluruh data\n",
        "accuracy = total_correct / total_data * 100\n",
        "\n",
        "print(\"Akurasi = (ΣTP) / Total x 100\")\n",
        "print(f\"= ({np.sum(TP)}) / {total_data} x 100\")\n",
        "print(f\"= {accuracy:.2f}%\\n\")"
      ],
      "metadata": {
        "id": "D7Xh1qQfnEXj"
      },
      "execution_count": null,
      "outputs": []
    },
    {
      "cell_type": "markdown",
      "source": [
        "Menghitung Precision, Recall, dan F1-Score untuk Setiap Kelas"
      ],
      "metadata": {
        "id": "JI4ksBOjnIJy"
      }
    },
    {
      "cell_type": "code",
      "source": [
        "precision = TP / (TP + FP) * 100  # Dalam persen\n",
        "recall = TP / (TP + FN) * 100     # Dalam persen\n",
        "f1_score = 2 * (precision * recall) / (precision + recall)\n",
        "\n",
        "# Menampilkan hasil perhitungan untuk setiap kelas\n",
        "results = pd.DataFrame({\n",
        "    'Class': classes,\n",
        "    'Precision': precision,\n",
        "    'Recall': recall,\n",
        "    'F1-Score': f1_score\n",
        "})\n",
        "\n",
        "print(\"\\n=== Perhitungan Presisi, Recall, dan F1-Score untuk setiap Kelas ===\")\n",
        "for idx, row in results.iterrows():\n",
        "    print(f\"\\nKelas {row['Class']}:\")\n",
        "    print(f\"Presisi = TP / (TP + FP)\")\n",
        "    print(f\"= {TP[idx]} / ({TP[idx]} + {FP[idx]}) x 100\")\n",
        "    print(f\"= {row['Precision']:.2f}%\")\n",
        "\n",
        "    print(f\"Recall = TP / (TP + FN)\")\n",
        "    print(f\"= {TP[idx]} / ({TP[idx]} + {FN[idx]}) x 100\")\n",
        "    print(f\"= {row['Recall']:.2f}%\")\n",
        "\n",
        "    print(f\"F1-Score = 2 * (Precision * Recall) / (Precision + Recall)\")\n",
        "    print(f\"= 2 * ({row['Precision']:.2f}% * {row['Recall']:.2f}%) / ({row['Precision']:.2f}% + {row['Recall']:.2f}%)\")\n",
        "    print(f\"= {row['F1-Score']:.2f}%\")\n"
      ],
      "metadata": {
        "id": "szQxZM-UnJ8n"
      },
      "execution_count": null,
      "outputs": []
    },
    {
      "cell_type": "markdown",
      "source": [
        "Menghitung Rata-rata Precision, Recall, dan F1-Score"
      ],
      "metadata": {
        "id": "VJOB2ID1nNnw"
      }
    },
    {
      "cell_type": "code",
      "source": [
        "avg_precision = np.mean(precision)\n",
        "avg_recall = np.mean(recall)\n",
        "avg_f1_score = np.mean(f1_score)\n",
        "\n",
        "print(\"\\n=== Rata-rata Presisi, Recall, dan F1-Score ===\")\n",
        "print(f\"Rata-rata Presisi = ΣPresisi / Jumlah Kelas\")\n",
        "print(\"= \" + \" + \".join([f\"{p:.2f}%\" for p in precision]) + f\" / {len(classes)}\")\n",
        "print(f\"= {avg_precision:.2f}%\\n\")\n",
        "\n",
        "print(\"Rata-rata Recall = ΣRecall / Jumlah Kelas\")\n",
        "print(\"= \" + \" + \".join([f\"{r:.2f}%\" for r in recall]) + f\" / {len(classes)}\")\n",
        "print(f\"= {avg_recall:.2f}%\\n\")\n",
        "\n",
        "print(\"Rata-rata F1-Score = ΣF1-Score / Jumlah Kelas\")\n",
        "print(\"= \" + \" + \".join([f\"{f:.2f}%\" for f in f1_score]) + f\" / {len(classes)}\")\n",
        "print(f\"= {avg_f1_score:.2f}%\\n\")\n"
      ],
      "metadata": {
        "id": "UN6-_DIInPbB"
      },
      "execution_count": null,
      "outputs": []
    },
    {
      "cell_type": "markdown",
      "source": [
        "menerapkan hasil prediksi untuk seluruh dataset"
      ],
      "metadata": {
        "id": "y7rnrFtka7Ks"
      }
    },
    {
      "cell_type": "code",
      "source": [
        "# Pastikan TF-IDF vectorizer sudah diterapkan ke seluruh data\n",
        "X_all_tfidf = vectorizer.transform(df_selected['cleaned_content'])\n",
        "\n",
        "# Prediksi untuk seluruh dataset menggunakan model terbaik\n",
        "y_all_pred = best_nb_model.predict(X_all_tfidf)\n",
        "\n",
        "# Menambahkan hasil prediksi ke DataFrame\n",
        "df_selected['Prediksi'] = y_all_pred\n",
        "\n",
        "# Menampilkan hasil 10 baris pertama setelah menambahkan kolom Prediksi\n",
        "print(\"\\n=== Dataframe dengan Kolom Prediksi untuk Seluruh Data ===\")\n",
        "print(df_selected[['username', 'content', 'sentiment', 'Prediksi']].head(10))"
      ],
      "metadata": {
        "id": "XBx5UIEFa-rf"
      },
      "execution_count": null,
      "outputs": []
    },
    {
      "cell_type": "markdown",
      "source": [
        "# **Visualisasi hasil evaluasi**\n",
        "\n",
        "---\n",
        "\n"
      ],
      "metadata": {
        "id": "8kr0qz3onh3Q"
      }
    },
    {
      "cell_type": "markdown",
      "source": [
        "Distribusi Sentimen Bar Chart"
      ],
      "metadata": {
        "id": "s7AJ79iHA3Dx"
      }
    },
    {
      "cell_type": "code",
      "source": [
        "predicted_counts_all = df_selected['Prediksi'].value_counts()\n",
        "\n",
        "# Membuat DataFrame untuk visualisasi\n",
        "predicted_df_all = predicted_counts_all.reset_index()\n",
        "predicted_df_all.columns = ['Sentimen', 'Jumlah']\n",
        "\n",
        "# Bar Chart untuk Distribusi Prediksi pada Seluruh Dataset\n",
        "plt.figure(figsize=(8, 6))\n",
        "sns.barplot(x='Sentimen', y='Jumlah', data=predicted_df_all, palette=['#66c2a5', '#fc8d62', '#8da0cb'])\n",
        "plt.xlabel('Sentimen Prediksi')\n",
        "plt.ylabel('Jumlah')\n",
        "plt.title('Distribusi Sentimen Prediksi pada Seluruh Dataset (Bar Chart)')\n",
        "# Menampilkan jumlah di atas setiap bar\n",
        "for index, value in enumerate(predicted_df_all['Jumlah']):\n",
        "    plt.text(index, value + 1, str(value), ha='center', va='bottom')\n",
        "\n",
        "plt.show()\n"
      ],
      "metadata": {
        "id": "t1NwmLrlA5jX"
      },
      "execution_count": null,
      "outputs": []
    },
    {
      "cell_type": "markdown",
      "source": [
        "Distribusi Sentimen Pie Chart"
      ],
      "metadata": {
        "id": "mdArlv8hBGpm"
      }
    },
    {
      "cell_type": "code",
      "source": [
        "plt.figure(figsize=(8, 6))\n",
        "plt.pie(predicted_counts_all.values, labels=predicted_counts_all.index, autopct='%1.1f%%', startangle=140,\n",
        "        colors=['#66c2a5', '#fc8d62', '#8da0cb'])\n",
        "plt.axis('equal')\n",
        "plt.title('Proporsi Sentimen Prediksi pada Seluruh Dataset (Pie Chart)')\n",
        "plt.show()"
      ],
      "metadata": {
        "id": "KE-ciFtqBN6F"
      },
      "execution_count": null,
      "outputs": []
    },
    {
      "cell_type": "markdown",
      "source": [
        "Wordcloud untuk ulasan Positif, Negatif dan Netral"
      ],
      "metadata": {
        "id": "M5gBuy98Bvab"
      }
    },
    {
      "cell_type": "code",
      "source": [
        "def generate_wordcloud(df, sentiment_label, title):\n",
        "    # Verifikasi apakah ada data untuk sentimen yang diberikan\n",
        "    if sentiment_label not in df['sentiment'].unique():\n",
        "        print(f\"Tidak ada data untuk sentimen: {sentiment_label}\")\n",
        "        return\n",
        "    # Gabungkan teks untuk Word Cloud\n",
        "    text = ' '.join(df[df['sentiment'] == sentiment_label]['cleaned_content'].fillna(''))\n",
        "    wordcloud = WordCloud(width=800, height=400, background_color='white', stopwords=stopwords_tambahan).generate(text)\n",
        "    plt.figure(figsize=(10, 5))\n",
        "    plt.imshow(wordcloud, interpolation='bilinear')\n",
        "    plt.axis('off')\n",
        "    plt.title(title)\n",
        "    plt.show()\n",
        "\n",
        "# Tampilkan Word Cloud untuk setiap sentimen\n",
        "generate_wordcloud(df_selected, 'positif', 'Word Cloud untuk Sentimen Positif')\n",
        "generate_wordcloud(df_selected, 'negatif', 'Word Cloud untuk Sentimen Negatif')\n",
        "generate_wordcloud(df_selected, 'netral', 'Word Cloud untuk Sentimen Netral')"
      ],
      "metadata": {
        "id": "pGP-WFy2B0M9"
      },
      "execution_count": null,
      "outputs": []
    }
  ]
}